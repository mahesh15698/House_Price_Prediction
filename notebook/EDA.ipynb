{
 "cells": [
  {
   "cell_type": "code",
   "execution_count": null,
   "metadata": {},
   "outputs": [],
   "source": [
    "import os\n",
    "\n",
    "os.chdir(os.pardir)"
   ]
  },
  {
   "cell_type": "code",
   "execution_count": 3,
   "metadata": {},
   "outputs": [
    {
     "name": "stderr",
     "output_type": "stream",
     "text": [
      "c:\\Users\\Admin\\House_Price_Prediction\\mjenv\\lib\\site-packages\\evidently\\analyzers\\__init__.py:3: UserWarning: analyzers are deprecated, use metrics instead\n",
      "  warnings.warn(\"analyzers are deprecated, use metrics instead\")\n",
      "c:\\Users\\Admin\\House_Price_Prediction\\mjenv\\lib\\site-packages\\evidently\\model_profile\\__init__.py:8: UserWarning: model profiles are deprecated, use metrics instead\n",
      "  warnings.warn(\"model profiles are deprecated, use metrics instead\")\n",
      "c:\\Users\\Admin\\House_Price_Prediction\\mjenv\\lib\\site-packages\\evidently\\dashboard\\__init__.py:8: UserWarning: dashboards are deprecated, use metrics instead\n",
      "  warnings.warn(\"dashboards are deprecated, use metrics instead\")\n",
      "c:\\Users\\Admin\\House_Price_Prediction\\mjenv\\lib\\site-packages\\evidently\\tabs\\__init__.py:8: UserWarning: 'import evidently.tabs' is deprecated, use 'import evidently.dashboard.tabs'\n",
      "  warnings.warn(\n"
     ]
    },
    {
     "ename": "HousingException",
     "evalue": "\n        Error occured in script: \n        [ c:\\users\\admin\\house_price_prediction\\Housing\\config\\configuration.py ] at \n        try block line number: [14] and exception block line number: [18] \n        error message: [\n        Error occured in script: \n        [ c:\\users\\admin\\house_price_prediction\\Housing\\util\\util.py ] at \n        try block line number: [50] and exception block line number: [53] \n        error message: [[Errno 2] No such file or directory: 'c:\\\\Users\\\\Admin\\\\House_Price_Prediction\\\\notebook\\\\config\\\\config.yaml']\n        ]\n        ",
     "output_type": "error",
     "traceback": [
      "\u001b[1;31m---------------------------------------------------------------------------\u001b[0m",
      "\u001b[1;31mFileNotFoundError\u001b[0m                         Traceback (most recent call last)",
      "File \u001b[1;32mc:\\users\\admin\\house_price_prediction\\Housing\\util\\util.py:50\u001b[0m, in \u001b[0;36mread_yaml_file\u001b[1;34m(file_path)\u001b[0m\n\u001b[0;32m     49\u001b[0m \u001b[39mtry\u001b[39;00m:\n\u001b[1;32m---> 50\u001b[0m     \u001b[39mwith\u001b[39;00m \u001b[39mopen\u001b[39;49m(file_path, \u001b[39m'\u001b[39;49m\u001b[39mrb\u001b[39;49m\u001b[39m'\u001b[39;49m) \u001b[39mas\u001b[39;00m yaml_file:\n\u001b[0;32m     51\u001b[0m         \u001b[39mreturn\u001b[39;00m yaml\u001b[39m.\u001b[39msafe_load(yaml_file)\n",
      "\u001b[1;31mFileNotFoundError\u001b[0m: [Errno 2] No such file or directory: 'c:\\\\Users\\\\Admin\\\\House_Price_Prediction\\\\notebook\\\\config\\\\config.yaml'",
      "\nThe above exception was the direct cause of the following exception:\n",
      "\u001b[1;31mHousingException\u001b[0m                          Traceback (most recent call last)",
      "File \u001b[1;32mc:\\users\\admin\\house_price_prediction\\Housing\\config\\configuration.py:14\u001b[0m, in \u001b[0;36mConfiguration.__init__\u001b[1;34m(self, config_file_path, current_time_stamp)\u001b[0m\n\u001b[0;32m     13\u001b[0m \u001b[39mtry\u001b[39;00m:\n\u001b[1;32m---> 14\u001b[0m     \u001b[39mself\u001b[39m\u001b[39m.\u001b[39mconfig_info \u001b[39m=\u001b[39m read_yaml_file(file_path \u001b[39m=\u001b[39;49m config_file_path)\n\u001b[0;32m     15\u001b[0m     \u001b[39mself\u001b[39m\u001b[39m.\u001b[39mtraining_pipeline_config \u001b[39m=\u001b[39m \u001b[39mself\u001b[39m\u001b[39m.\u001b[39mget_training_pipeline_config()\n",
      "File \u001b[1;32mc:\\users\\admin\\house_price_prediction\\Housing\\util\\util.py:53\u001b[0m, in \u001b[0;36mread_yaml_file\u001b[1;34m(file_path)\u001b[0m\n\u001b[0;32m     52\u001b[0m \u001b[39mexcept\u001b[39;00m \u001b[39mException\u001b[39;00m \u001b[39mas\u001b[39;00m e:\n\u001b[1;32m---> 53\u001b[0m     \u001b[39mraise\u001b[39;00m HousingException(e,sys) \u001b[39mfrom\u001b[39;00m \u001b[39me\u001b[39;00m\n",
      "\u001b[1;31mHousingException\u001b[0m: \n        Error occured in script: \n        [ c:\\users\\admin\\house_price_prediction\\Housing\\util\\util.py ] at \n        try block line number: [50] and exception block line number: [53] \n        error message: [[Errno 2] No such file or directory: 'c:\\\\Users\\\\Admin\\\\House_Price_Prediction\\\\notebook\\\\config\\\\config.yaml']\n        ",
      "\nThe above exception was the direct cause of the following exception:\n",
      "\u001b[1;31mHousingException\u001b[0m                          Traceback (most recent call last)",
      "Cell \u001b[1;32mIn[3], line 1\u001b[0m\n\u001b[1;32m----> 1\u001b[0m \u001b[39mfrom\u001b[39;00m \u001b[39mHousing\u001b[39;00m\u001b[39m.\u001b[39;00m\u001b[39mpipeline\u001b[39;00m\u001b[39m.\u001b[39;00m\u001b[39mpipeline\u001b[39;00m \u001b[39mimport\u001b[39;00m Pipeline\n",
      "File \u001b[1;32mc:\\users\\admin\\house_price_prediction\\Housing\\pipeline\\pipeline.py:31\u001b[0m\n\u001b[0;32m     22\u001b[0m \u001b[39mimport\u001b[39;00m \u001b[39mos\u001b[39;00m\u001b[39m,\u001b[39m \u001b[39msys\u001b[39;00m\n\u001b[0;32m     23\u001b[0m \u001b[39m# from collections import namedtuple\u001b[39;00m\n\u001b[0;32m     24\u001b[0m \u001b[39m# import pandas as pd\u001b[39;00m\n\u001b[0;32m     25\u001b[0m \u001b[39m# from housing.constant import EXPERIMENT_DIR_NAME, EXPERIMENT_FILE_NAME\u001b[39;00m\n\u001b[1;32m   (...)\u001b[0m\n\u001b[0;32m     28\u001b[0m \u001b[39m#                                        \"running_status\", \"start_time\", \"stop_time\", \"execution_time\", \"message\",\u001b[39;00m\n\u001b[0;32m     29\u001b[0m \u001b[39m#                                        \"experiment_file_path\", \"accuracy\", \"is_model_accepted\"])\u001b[39;00m\n\u001b[1;32m---> 31\u001b[0m \u001b[39mclass\u001b[39;00m \u001b[39mPipeline\u001b[39;00m:\n\u001b[0;32m     32\u001b[0m     \u001b[39m# experiment: Experiment = Experiment(*([None] * 11))\u001b[39;00m\n\u001b[0;32m     33\u001b[0m     \u001b[39m# experiment_file_path = None\u001b[39;00m\n\u001b[0;32m     35\u001b[0m     \u001b[39mdef\u001b[39;00m \u001b[39m__init__\u001b[39m(\u001b[39mself\u001b[39m, config: Configuration \u001b[39m=\u001b[39m Configuration()) \u001b[39m-\u001b[39m\u001b[39m>\u001b[39m \u001b[39mNone\u001b[39;00m:\n\u001b[0;32m     36\u001b[0m         \u001b[39mtry\u001b[39;00m:\n\u001b[0;32m     37\u001b[0m             \u001b[39m# os.makedirs(config.training_pipeline_config.artifact_dir, exist_ok=True)\u001b[39;00m\n\u001b[0;32m     38\u001b[0m             \u001b[39m# Pipeline.experiment_file_path=os.path.join(config.training_pipeline_config.artifact_dir,EXPERIMENT_DIR_NAME, EXPERIMENT_FILE_NAME)\u001b[39;00m\n\u001b[0;32m     39\u001b[0m             \u001b[39m# super().init(daemon=False, name=\"pipeline\")\u001b[39;00m\n",
      "File \u001b[1;32mc:\\users\\admin\\house_price_prediction\\Housing\\pipeline\\pipeline.py:35\u001b[0m, in \u001b[0;36mPipeline\u001b[1;34m()\u001b[0m\n\u001b[0;32m     31\u001b[0m \u001b[39mclass\u001b[39;00m \u001b[39mPipeline\u001b[39;00m:\n\u001b[0;32m     32\u001b[0m     \u001b[39m# experiment: Experiment = Experiment(*([None] * 11))\u001b[39;00m\n\u001b[0;32m     33\u001b[0m     \u001b[39m# experiment_file_path = None\u001b[39;00m\n\u001b[1;32m---> 35\u001b[0m     \u001b[39mdef\u001b[39;00m \u001b[39m__init__\u001b[39m(\u001b[39mself\u001b[39m, config: Configuration \u001b[39m=\u001b[39m Configuration()) \u001b[39m-\u001b[39m\u001b[39m>\u001b[39m \u001b[39mNone\u001b[39;00m:\n\u001b[0;32m     36\u001b[0m         \u001b[39mtry\u001b[39;00m:\n\u001b[0;32m     37\u001b[0m             \u001b[39m# os.makedirs(config.training_pipeline_config.artifact_dir, exist_ok=True)\u001b[39;00m\n\u001b[0;32m     38\u001b[0m             \u001b[39m# Pipeline.experiment_file_path=os.path.join(config.training_pipeline_config.artifact_dir,EXPERIMENT_DIR_NAME, EXPERIMENT_FILE_NAME)\u001b[39;00m\n\u001b[0;32m     39\u001b[0m             \u001b[39m# super().init(daemon=False, name=\"pipeline\")\u001b[39;00m\n\u001b[0;32m     40\u001b[0m             \u001b[39mself\u001b[39m\u001b[39m.\u001b[39mconfig \u001b[39m=\u001b[39m config\n",
      "File \u001b[1;32mc:\\users\\admin\\house_price_prediction\\Housing\\config\\configuration.py:18\u001b[0m, in \u001b[0;36mConfiguration.__init__\u001b[1;34m(self, config_file_path, current_time_stamp)\u001b[0m\n\u001b[0;32m     16\u001b[0m     \u001b[39mself\u001b[39m\u001b[39m.\u001b[39mtime_stamp \u001b[39m=\u001b[39m current_time_stamp\n\u001b[0;32m     17\u001b[0m \u001b[39mexcept\u001b[39;00m \u001b[39mException\u001b[39;00m \u001b[39mas\u001b[39;00m e:\n\u001b[1;32m---> 18\u001b[0m     \u001b[39mraise\u001b[39;00m HousingException(e,sys) \u001b[39mfrom\u001b[39;00m \u001b[39me\u001b[39;00m\n",
      "\u001b[1;31mHousingException\u001b[0m: \n        Error occured in script: \n        [ c:\\users\\admin\\house_price_prediction\\Housing\\config\\configuration.py ] at \n        try block line number: [14] and exception block line number: [18] \n        error message: [\n        Error occured in script: \n        [ c:\\users\\admin\\house_price_prediction\\Housing\\util\\util.py ] at \n        try block line number: [50] and exception block line number: [53] \n        error message: [[Errno 2] No such file or directory: 'c:\\\\Users\\\\Admin\\\\House_Price_Prediction\\\\notebook\\\\config\\\\config.yaml']\n        ]\n        "
     ]
    }
   ],
   "source": [
    "from Housing.pipeline.pipeline import Pipeline"
   ]
  },
  {
   "cell_type": "code",
   "execution_count": null,
   "metadata": {},
   "outputs": [],
   "source": [
    "p=Pipeline()"
   ]
  },
  {
   "cell_type": "code",
   "execution_count": null,
   "metadata": {},
   "outputs": [],
   "source": [
    "p"
   ]
  },
  {
   "cell_type": "code",
   "execution_count": null,
   "metadata": {},
   "outputs": [],
   "source": [
    "p.start()"
   ]
  },
  {
   "cell_type": "code",
   "execution_count": 2,
   "metadata": {},
   "outputs": [],
   "source": [
    "from cgi import test"
   ]
  },
  {
   "cell_type": "code",
   "execution_count": null,
   "metadata": {},
   "outputs": [],
   "source": []
  }
 ],
 "metadata": {
  "kernelspec": {
   "display_name": "Python 3",
   "language": "python",
   "name": "python3"
  },
  "language_info": {
   "codemirror_mode": {
    "name": "ipython",
    "version": 3
   },
   "file_extension": ".py",
   "mimetype": "text/x-python",
   "name": "python",
   "nbconvert_exporter": "python",
   "pygments_lexer": "ipython3",
   "version": "3.10.9"
  },
  "orig_nbformat": 4
 },
 "nbformat": 4,
 "nbformat_minor": 2
}
